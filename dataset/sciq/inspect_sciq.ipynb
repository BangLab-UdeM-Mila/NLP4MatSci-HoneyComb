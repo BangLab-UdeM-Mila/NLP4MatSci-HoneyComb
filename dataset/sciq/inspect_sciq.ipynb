{
 "cells": [
  {
   "cell_type": "code",
   "execution_count": 24,
   "metadata": {},
   "outputs": [
    {
     "name": "stdout",
     "output_type": "stream",
     "text": [
      "                                                question      distractor3  \\\n",
      "0      What type of organism is commonly used in prep...          viruses   \n",
      "1      What phenomenon makes global winds blow northe...  tropical effect   \n",
      "2      Changes from a less-ordered state to a more-or...      endothermic   \n",
      "3         What is the least dangerous radioactive decay?       zeta decay   \n",
      "4      Kilauea in hawaii is the world’s most continuo...            magma   \n",
      "...                                                  ...              ...   \n",
      "11674  The enzyme pepsin plays an important role in t...           lipids   \n",
      "11675  What remains a constant of radioactive substan...          acidity   \n",
      "11676  Terrestrial ecosystems, also known for their d...       substrates   \n",
      "11677  High explosives create shock waves that exceed...       turbulence   \n",
      "11678  What do you call a structure composed of two o...           system   \n",
      "\n",
      "            distractor1         distractor2        correct_answer  \\\n",
      "0              protozoa         gymnosperms  mesophilic organisms   \n",
      "1           muon effect  centrifugal effect       coriolis effect   \n",
      "2            unbalanced            reactive            exothermic   \n",
      "3            beta decay         gamma decay           alpha decay   \n",
      "4      greenhouse gases     carbon and smog         smoke and ash   \n",
      "...                 ...                 ...                   ...   \n",
      "11674           protons            proteins              peptides   \n",
      "11675       temperature          volatility         rate of decay   \n",
      "11676           bisomes             monomes                biomes   \n",
      "11677       light speed           ion speed            supersonic   \n",
      "11678              cell              marrow                 organ   \n",
      "\n",
      "                                                 support  \n",
      "0      Mesophiles grow best in moderate temperature, ...  \n",
      "1      Without Coriolis Effect the global winds would...  \n",
      "2      Summary Changes of state are examples of phase...  \n",
      "3      All radioactive decay is dangerous to living t...  \n",
      "4      Example 3.5 Calculating Projectile Motion: Hot...  \n",
      "...                                                  ...  \n",
      "11674  Protein A large part of protein digestion take...  \n",
      "11675  The rate of decay of a radioactive substance i...  \n",
      "11676  Terrestrial ecosystems, also known for their d...  \n",
      "11677  The modern day formulation of gun powder is ca...  \n",
      "11678  An organ is a structure composed of two or mor...  \n",
      "\n",
      "[11679 rows x 6 columns]\n"
     ]
    }
   ],
   "source": [
    "import pandas as pd\n",
    "\n",
    "df = pd.read_parquet(\"./sciq_train.parquet\")\n",
    "\n",
    "print(df)"
   ]
  }
 ],
 "metadata": {
  "kernelspec": {
   "display_name": "general_data_science",
   "language": "python",
   "name": "python3"
  },
  "language_info": {
   "codemirror_mode": {
    "name": "ipython",
    "version": 3
   },
   "file_extension": ".py",
   "mimetype": "text/x-python",
   "name": "python",
   "nbconvert_exporter": "python",
   "pygments_lexer": "ipython3",
   "version": "3.11.7"
  },
  "orig_nbformat": 4
 },
 "nbformat": 4,
 "nbformat_minor": 2
}
